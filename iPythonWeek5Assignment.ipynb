{
 "metadata": {
  "name": "",
  "signature": "sha256:3436f2ec089ab745bb3843bae4738f3e1a6987db97f6b8fd55ff8b2419b6e9a5"
 },
 "nbformat": 3,
 "nbformat_minor": 0,
 "worksheets": [
  {
   "cells": [
    {
     "cell_type": "markdown",
     "metadata": {},
     "source": [
      "# iPython Week 5 Assignment"
     ]
    },
    {
     "cell_type": "code",
     "collapsed": false,
     "input": [
      "import csv"
     ],
     "language": "python",
     "metadata": {},
     "outputs": [],
     "prompt_number": 68
    },
    {
     "cell_type": "code",
     "collapsed": false,
     "input": [
      "moviefile = open('u.item.txt',\"rb\")\n",
      "reader = csv.reader(moviefile, delimiter='|')"
     ],
     "language": "python",
     "metadata": {},
     "outputs": [],
     "prompt_number": 69
    },
    {
     "cell_type": "code",
     "collapsed": false,
     "input": [
      "for row in reader:\n",
      "    if row[2][len(row[2])-4:] == '1959':\n",
      "        print row[1][0:len(row[1])-7]"
     ],
     "language": "python",
     "metadata": {},
     "outputs": [
      {
       "output_type": "stream",
       "stream": "stdout",
       "text": [
        "North by Northwest\n",
        "Some Like It Hot\n",
        "Ben-Hur\n",
        "Shaggy Dog, The\n"
       ]
      }
     ],
     "prompt_number": 70
    }
   ],
   "metadata": {}
  }
 ]
}